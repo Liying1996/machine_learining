{
 "cells": [
  {
   "cell_type": "markdown",
   "metadata": {},
   "source": [
    "### 1. 简单线性回归概述\n",
    "假设对于一系列数据，我们找到了最佳拟合方程$y=ax+b$，则对于每个样本点$x^{(i)}$来说，预测值为：  \n",
    "$\\hat y = ax^{(i)}+b$\n",
    "其真值为$y^{(i)}$，我们希望这两者的差距尽可能的小：\n",
    "$(y^{(i)} - \\hat y^{(i)})^2$  \n",
    "对于所有样本来说，我们就是希望以下的值最小：  \n",
    "$\\sum_{i=1}^m(y^{(i)} - \\hat y^{(i)})^2$\n",
    "![](https://www.machinelearningmindset.com/wp-content/uploads/2020/03/linearregline-768x526.png)"
   ]
  },
  {
   "cell_type": "markdown",
   "metadata": {},
   "source": [
    "我们的目标其实就是寻找到a和b，使得$\\sum_{i=1}^m(y^{(i)} - ax^{(i)} - b)^2$ 最小。这是一个典型的最小二乘法问题，最小化误差的平方。"
   ]
  },
  {
   "cell_type": "markdown",
   "metadata": {},
   "source": [
    "几乎所有的参数学习算法的套路都是通过最优化损失函数或者效用函数，获得机器学习的模型。"
   ]
  },
  {
   "cell_type": "markdown",
   "metadata": {},
   "source": [
    "最小二乘法可以求解得到a和b的值：  \n",
    "\n",
    "\\begin{equation}\n",
    "a = \\frac{\\sum_{i=1}^m \\left(x^\\left(i\\right) - \\bar x\\right)\\left(y^\\left(i\\right) - \\bar y\\right)}{\\sum_{i=1}^m \\left(x^\\left(i\\right) - \\bar x\\right)^2}\n",
    "\\end{equation}\n",
    "\n",
    "\\begin{equation}\n",
    "b = \\bar y - a\\bar x\n",
    "\\end{equation}"
   ]
  },
  {
   "cell_type": "markdown",
   "metadata": {},
   "source": [
    "以下是对b的求解过程：\n",
    "\n",
    "\\begin{equation}\n",
    "\\frac{\\partial J\\left(a, b\\right)}{\\partial b} =  \\sum_{i=1}^m -2\\left(y^i-ax^i-b\\right)  \n",
    "\\end{equation}\n",
    "\n",
    "令其等于0：\n",
    "\\begin{equation}\n",
    " \\sum_{i=1}^m -2\\left(y^i-ax^i-b\\right) = 0 \n",
    "\\end{equation}\n",
    "\n",
    "则：\n",
    "\\begin{equation}\n",
    "\\begin{aligned}\n",
    "bm &= \\sum_{i=1}^m y^i - \\sum_{i=1}^m a x^i \\\\\n",
    "m &= \\bar y -  a\\bar x\n",
    "\\end{aligned}\n",
    "\\end{equation}\n",
    "\n",
    "以下是对a的求解过程：\n",
    "\n",
    "\\begin{equation}\n",
    "\\begin{aligned}\n",
    "\\frac{\\partial J\\left(a, b\\right)}{\\partial a} &=  \\sum_{i=1}^m 2\\left(y^i-ax^i-b\\right)\\left(-x^i\\right) \\\\\n",
    "&=2 \\sum_{i=1}^m \\left(y^i - ax^i - \\bar y + a\\bar x\\right)\\left(-x^i\\right) \\\\\n",
    "&= 2 \\sum_{i=1}^m \\left(x^iy^i - x^i\\bar y - a\\left((x^i)^2 - \\bar x x\\right)\\right)\n",
    "\\end{aligned}\n",
    "\\end{equation}\n",
    "\n",
    "令其等于0：\n",
    "\n",
    "\\begin{equation}\n",
    "\\begin{aligned}\n",
    "a &= \\frac{\\sum_{i=1}^m\\left(x^iy^i - x^i\\bar y\\right)}{\\sum_{i=1}^m \\left((x^i)^2 - \\bar x x\\right)} \\\\\n",
    "&=\\frac{\\sum_{i=1}^m\\left(x^iy^i - x^i\\bar y + \\bar x \\bar y - \\bar x y^i\\right)}{\\sum_{i=1}^m \\left((x^i)^2 - \\bar x x + \\bar x^2 - \\bar x x^i\\right)} \\\\\n",
    "&=\\frac{\\sum_{i=1}^m\\left(\\left(x^i - \\bar x\\right)\\left(y^i - \\bar y\\right)\\right)}{\\sum_{i=1}^m \\left(x^i - \\bar x\\right)^2}\n",
    "\\end{aligned}\n",
    "\\end{equation}\n"
   ]
  },
  {
   "cell_type": "markdown",
   "metadata": {},
   "source": [
    "### 2. 简单线性回归的实现"
   ]
  },
  {
   "cell_type": "code",
   "execution_count": 1,
   "metadata": {},
   "outputs": [],
   "source": [
    "import numpy as np\n",
    "import matplotlib.pyplot as plt"
   ]
  },
  {
   "cell_type": "code",
   "execution_count": 2,
   "metadata": {},
   "outputs": [
    {
     "data": {
      "image/png": "[encoded data removed]",
      "text/plain": [
       "<Figure size 432x288 with 1 Axes>"
      ]
     },
     "metadata": {
      "needs_background": "light"
     },
     "output_type": "display_data"
    }
   ],
   "source": [
    "# 构造简单数据\n",
    "x = np.array([1, 2, 3, 4, 5])\n",
    "y = np.array([1, 3, 2, 3, 5])\n",
    "\n",
    "plt.scatter(x, y)\n",
    "plt.show()"
   ]
  },
  {
   "cell_type": "code",
   "execution_count": 16,
   "metadata": {},
   "outputs": [],
   "source": [
    "# 直接求出线性回归的系数a, b\n",
    "x_mean = np.mean(x)\n",
    "y_mean = np.mean(y)\n",
    "\n",
    "a1, a2 = 0, 0\n",
    "for i in range(len(x)):\n",
    "    a1 += (x[i] - x_mean) * (y[i] - y_mean)\n",
    "    a2 += (x[i] - x_mean) ** 2\n",
    "\n",
    "a = a1/a2\n",
    "\n",
    "b = np.mean(y) - a * x_mean"
   ]
  },
  {
   "cell_type": "code",
   "execution_count": 17,
   "metadata": {},
   "outputs": [
    {
     "name": "stdout",
     "output_type": "stream",
     "text": [
      "0.8 0.39999999999999947\n"
     ]
    }
   ],
   "source": [
    "print(a, b)"
   ]
  },
  {
   "cell_type": "code",
   "execution_count": 24,
   "metadata": {},
   "outputs": [
    {
     "data": {
      "image/png": "[encoded data removed]",
      "text/plain": [
       "<Figure size 432x288 with 1 Axes>"
      ]
     },
     "metadata": {
      "needs_background": "light"
     },
     "output_type": "display_data"
    }
   ],
   "source": [
    "y_hat = x * a + b\n",
    "plt.scatter(x, y)\n",
    "plt.plot(x, y_hat, color = 'r')\n",
    "plt.show()"
   ]
  },
  {
   "cell_type": "code",
   "execution_count": 19,
   "metadata": {},
   "outputs": [],
   "source": [
    "# 将其封装为class， 与sklearn相似\n",
    "\n",
    "class SimpleLinearRegression:\n",
    "    # 初始化\n",
    "    def __init__(self):\n",
    "        self.a_ = None\n",
    "        self.b_ = None\n",
    "    \n",
    "    def fit(self, x_train, y_train): # x_train是一维向量\n",
    "        assert x_train.ndim == 1, \"Simple Linear Regression must be 1D array!\"\n",
    "        assert len(x_train) == len(y_train), \"The size of x_train and y_train must be same!\"\n",
    "        \n",
    "        x_mean = np.mean(x_train)\n",
    "        y_mean = np.mean(y_train)\n",
    "        \n",
    "        a1, a2 = 0, 0\n",
    "        for x,y in zip(x_train, y_train):\n",
    "            a1 += (x - x_mean) * (y - y_mean)\n",
    "            a2 += (x - x_mean) ** 2\n",
    "        \n",
    "        self.a_ = a1 / a2\n",
    "        self.b_ = y_mean - self.a_ * x_mean\n",
    "        \n",
    "        return self\n",
    "        \n",
    "    def predict(self, x_predict):\n",
    "        assert x_predict.ndim == 1, \"Simple Linear Regression must be 1D array!\"\n",
    "        assert self.a_ != None and self.b_ != None, \"You must fit before predict!\"\n",
    "        \n",
    "        return np.array([self._predict(x) for x in x_predict])\n",
    "    \n",
    "    def _predict(self, x_single):\n",
    "        return x_single * self.a_ + self.b_\n",
    "    \n",
    "    def __repr__(self):\n",
    "        return \"SimpleLinearRegression\""
   ]
  },
  {
   "cell_type": "code",
   "execution_count": 20,
   "metadata": {},
   "outputs": [
    {
     "data": {
      "text/plain": [
       "SimpleLinearRegression"
      ]
     },
     "execution_count": 20,
     "metadata": {},
     "output_type": "execute_result"
    }
   ],
   "source": [
    "# 调用\n",
    "reg1 = SimpleLinearRegression()\n",
    "reg1.fit(x, y)"
   ]
  },
  {
   "cell_type": "code",
   "execution_count": 21,
   "metadata": {},
   "outputs": [
    {
     "data": {
      "text/plain": [
       "array([5.2])"
      ]
     },
     "execution_count": 21,
     "metadata": {},
     "output_type": "execute_result"
    }
   ],
   "source": [
    "reg1.predict(np.array([6]))"
   ]
  },
  {
   "cell_type": "code",
   "execution_count": 23,
   "metadata": {},
   "outputs": [
    {
     "name": "stdout",
     "output_type": "stream",
     "text": [
      "0.8\n",
      "0.39999999999999947\n"
     ]
    }
   ],
   "source": [
    "print(reg1.a_)\n",
    "print(reg1.b_)"
   ]
  },
  {
   "cell_type": "markdown",
   "metadata": {},
   "source": [
    "### 3. 向量化运算"
   ]
  },
  {
   "cell_type": "code",
   "execution_count": 31,
   "metadata": {},
   "outputs": [],
   "source": [
    "# 将原来的class计算方法修改为向量化运算\n",
    "\n",
    "class SimpleLinearRegression2:\n",
    "    # 初始化\n",
    "    def __init__(self):\n",
    "        self.a_ = None\n",
    "        self.b_ = None\n",
    "    \n",
    "    def fit(self, x_train, y_train): # x_train是一维向量\n",
    "        assert x_train.ndim == 1, \"Simple Linear Regression must be 1D array!\"\n",
    "        assert len(x_train) == len(y_train), \"The size of x_train and y_train must be same!\"\n",
    "        \n",
    "        \n",
    "        a1 = (x_train - x_mean).dot(y_train - y_mean)\n",
    "        a2 = (x_train - x_mean).dot(x_train - x_mean)\n",
    "        self.a_ = a1/ a2\n",
    "        \n",
    "        self.b_ = y_mean - self.a_ * x_mean\n",
    "        \n",
    "        return self\n",
    "        \n",
    "    def predict(self, x_predict):\n",
    "        assert x_predict.ndim == 1, \"Simple Linear Regression must be 1D array!\"\n",
    "        assert self.a_ != None and self.b_ != None, \"You must fit before predict!\"\n",
    "        \n",
    "        return np.array([self._predict(x) for x in x_predict])\n",
    "    \n",
    "    def _predict(self, x_single):\n",
    "        return x_single * self.a_ + self.b_\n",
    "    \n",
    "    def __repr__(self):\n",
    "        return \"SimpleLinearRegression2\""
   ]
  },
  {
   "cell_type": "code",
   "execution_count": 32,
   "metadata": {},
   "outputs": [
    {
     "data": {
      "text/plain": [
       "SimpleLinearRegression2"
      ]
     },
     "execution_count": 32,
     "metadata": {},
     "output_type": "execute_result"
    }
   ],
   "source": [
    "reg2 = SimpleLinearRegression2()\n",
    "reg2.fit(x, y)"
   ]
  },
  {
   "cell_type": "code",
   "execution_count": 33,
   "metadata": {},
   "outputs": [
    {
     "name": "stdout",
     "output_type": "stream",
     "text": [
      "0.8\n",
      "0.39999999999999947\n"
     ]
    }
   ],
   "source": [
    "print(reg1.a_)\n",
    "print(reg1.b_)"
   ]
  },
  {
   "cell_type": "code",
   "execution_count": 35,
   "metadata": {},
   "outputs": [],
   "source": [
    "# 构造大数据测试时间\n",
    "big_x = np.random.random(size = 1000000)\n",
    "big_y = big_x * 2. + 3. + np.random.normal(0, 1, size = 1000000)"
   ]
  },
  {
   "cell_type": "code",
   "execution_count": 41,
   "metadata": {},
   "outputs": [
    {
     "name": "stdout",
     "output_type": "stream",
     "text": [
      "CPU times: user 1.72 s, sys: 17.6 ms, total: 1.74 s\n",
      "Wall time: 2 s\n"
     ]
    },
    {
     "data": {
      "text/plain": [
       "SimpleLinearRegression"
      ]
     },
     "execution_count": 41,
     "metadata": {},
     "output_type": "execute_result"
    }
   ],
   "source": [
    "%%time\n",
    "reg1.fit(big_x, big_y)"
   ]
  },
  {
   "cell_type": "code",
   "execution_count": 42,
   "metadata": {},
   "outputs": [
    {
     "name": "stdout",
     "output_type": "stream",
     "text": [
      "CPU times: user 17.8 ms, sys: 9.47 ms, total: 27.3 ms\n",
      "Wall time: 19.4 ms\n"
     ]
    },
    {
     "data": {
      "text/plain": [
       "SimpleLinearRegression2"
      ]
     },
     "execution_count": 42,
     "metadata": {},
     "output_type": "execute_result"
    }
   ],
   "source": [
    "%%time\n",
    "reg2.fit(big_x, big_y)"
   ]
  },
  {
   "cell_type": "markdown",
   "metadata": {},
   "source": [
    "由此可见，在速度方面向量化会快很多。"
   ]
  },
  {
   "cell_type": "markdown",
   "metadata": {},
   "source": [
    "### 4. 衡量线性回归的指标 "
   ]
  },
  {
   "cell_type": "markdown",
   "metadata": {},
   "source": [
    "#### 4.1 MSE, RMSE, MAE"
   ]
  },
  {
   "cell_type": "markdown",
   "metadata": {},
   "source": [
    "1) 均方误差，即Mean Square Error (MSE)，表达式为：  $\\frac{1}{m}\\sum_{i=1}^{m}(y_{test}^i - \\hat y_{test}^i)^2$"
   ]
  },
  {
   "cell_type": "markdown",
   "metadata": {},
   "source": [
    "2) 均方根误差，即Root Mean Square Error (RMSE)，是在均方误差的基础上开根号，表达式为：  \n",
    "$\\sqrt{\\frac{1}{m}\\sum_{i=1}^{m}(y_{test}^i - \\hat y_{test}^i)^2} = \\sqrt{MSE_{test}}$"
   ]
  },
  {
   "cell_type": "markdown",
   "metadata": {},
   "source": [
    "3) 平均绝对误差，即Mean Absolute Error (MAE)，表达式为：\n",
    "$\\frac{1}{m}\\sum_{i=1}^{m}|y_{test}^i - \\hat y_{test}^i|$"
   ]
  },
  {
   "cell_type": "code",
   "execution_count": 43,
   "metadata": {},
   "outputs": [],
   "source": [
    "from sklearn import datasets"
   ]
  },
  {
   "cell_type": "code",
   "execution_count": 51,
   "metadata": {},
   "outputs": [
    {
     "data": {
      "text/plain": [
       "array(['CRIM', 'ZN', 'INDUS', 'CHAS', 'NOX', 'RM', 'AGE', 'DIS', 'RAD',\n",
       "       'TAX', 'PTRATIO', 'B', 'LSTAT'], dtype='<U7')"
      ]
     },
     "execution_count": 51,
     "metadata": {},
     "output_type": "execute_result"
    }
   ],
   "source": [
    "boston = datasets.load_boston()\n",
    "# print(boston.DESCR)\n",
    "boston.feature_names"
   ]
  },
  {
   "cell_type": "code",
   "execution_count": 52,
   "metadata": {},
   "outputs": [],
   "source": [
    "x = boston.data[:, 5] # 只用了其中房间数量一个特征\n",
    "y = boston.target"
   ]
  },
  {
   "cell_type": "code",
   "execution_count": 53,
   "metadata": {},
   "outputs": [
    {
     "data": {
      "image/png": "[encoded data removed]",
      "text/plain": [
       "<Figure size 432x288 with 1 Axes>"
      ]
     },
     "metadata": {
      "needs_background": "light"
     },
     "output_type": "display_data"
    }
   ],
   "source": [
    "plt.scatter(x,y)\n",
    "plt.show()"
   ]
  },
  {
   "cell_type": "code",
   "execution_count": 56,
   "metadata": {},
   "outputs": [
    {
     "data": {
      "image/png": "[encoded data removed]",
      "text/plain": [
       "<Figure size 432x288 with 1 Axes>"
      ]
     },
     "metadata": {
      "needs_background": "light"
     },
     "output_type": "display_data"
    }
   ],
   "source": [
    "x = x[y<50,] # 去掉最上面的离散点\n",
    "y = y[y<50,]\n",
    "plt.scatter(x,y)\n",
    "plt.show()"
   ]
  },
  {
   "cell_type": "code",
   "execution_count": 63,
   "metadata": {},
   "outputs": [],
   "source": [
    "from sklearn.model_selection import train_test_split\n",
    "x_train, x_test, y_train, y_test = train_test_split(x, y)"
   ]
  },
  {
   "cell_type": "code",
   "execution_count": 64,
   "metadata": {},
   "outputs": [
    {
     "data": {
      "text/plain": [
       "SimpleLinearRegression2"
      ]
     },
     "execution_count": 64,
     "metadata": {},
     "output_type": "execute_result"
    }
   ],
   "source": [
    "reg = SimpleLinearRegression2()\n",
    "reg.fit(x_train, y_train)"
   ]
  },
  {
   "cell_type": "code",
   "execution_count": 65,
   "metadata": {},
   "outputs": [
    {
     "name": "stdout",
     "output_type": "stream",
     "text": [
      "5.956184824576212 -15.068554473728636\n"
     ]
    }
   ],
   "source": [
    "print(reg.a_, reg.b_)"
   ]
  },
  {
   "cell_type": "code",
   "execution_count": 68,
   "metadata": {},
   "outputs": [
    {
     "data": {
      "image/png": "[encoded data removed]",
      "text/plain": [
       "<Figure size 432x288 with 1 Axes>"
      ]
     },
     "metadata": {
      "needs_background": "light"
     },
     "output_type": "display_data"
    }
   ],
   "source": [
    "plt.scatter(x_train,y_train)\n",
    "plt.plot(x_train, reg.predict(x_train), color = 'r')\n",
    "plt.show()"
   ]
  },
  {
   "cell_type": "code",
   "execution_count": 69,
   "metadata": {},
   "outputs": [],
   "source": [
    "y_pred = reg.predict(x_test)"
   ]
  },
  {
   "cell_type": "code",
   "execution_count": 73,
   "metadata": {},
   "outputs": [
    {
     "name": "stdout",
     "output_type": "stream",
     "text": [
      "MSE = 31.944110213415723\n",
      "RMSE = 5.651912084721039\n",
      "MAE = 4.140222676263924\n"
     ]
    }
   ],
   "source": [
    "# MSE\n",
    "mse = np.sum((y_pred - y_test)**2) / len(y_pred)\n",
    "print('MSE = {}'.format(mse))\n",
    "\n",
    "# RMSE\n",
    "rmse = np.sqrt(mse)\n",
    "print('RMSE = {}'.format(rmse))\n",
    "\n",
    "# MAE\n",
    "mae = np.sum(np.absolute(y_pred - y_test)) / len(y_pred)\n",
    "print('MAE = {}'.format(mae))"
   ]
  },
  {
   "cell_type": "code",
   "execution_count": 75,
   "metadata": {},
   "outputs": [],
   "source": [
    "# sklearn中的MSE与MAE\n",
    "# 并没有RMSE，自己开平方即可\n",
    "\n",
    "from sklearn.metrics import mean_absolute_error, mean_squared_error"
   ]
  },
  {
   "cell_type": "code",
   "execution_count": 77,
   "metadata": {},
   "outputs": [
    {
     "name": "stdout",
     "output_type": "stream",
     "text": [
      "31.944110213415723\n",
      "4.140222676263924\n"
     ]
    }
   ],
   "source": [
    "print(mean_squared_error(y_pred, y_test))\n",
    "print(mean_absolute_error(y_pred, y_test))"
   ]
  },
  {
   "cell_type": "markdown",
   "metadata": {},
   "source": [
    "RMSE比MAE是要大一些的。"
   ]
  },
  {
   "cell_type": "markdown",
   "metadata": {},
   "source": [
    "#### 4.2 R squared"
   ]
  },
  {
   "cell_type": "markdown",
   "metadata": {},
   "source": [
    "RMSE与MAE有个局限性，就是对于分类的种类不同的情况很难去比较谁的效果好，比如预测学生的成绩和预测房价，得到的RMSE/MAE是并不能比较的。"
   ]
  },
  {
   "cell_type": "markdown",
   "metadata": {},
   "source": [
    "但是$R^2$是可以解决这个问题的，不同分类种类可以互相比较。\n",
    "\n",
    "\\begin{equation}\n",
    "R^2 = 1 - \\frac{SS_{residual}}{SS_{total}} \n",
    "\\end{equation}"
   ]
  },
  {
   "cell_type": "markdown",
   "metadata": {},
   "source": [
    "$SS_{residual}$全称是Residual sum of squares；$SS_{total}$是Total Sum of Square。\n",
    "\n",
    "\\begin{equation}\n",
    "R^2 = 1 - \\frac{\\sum_{i=1}^m(\\hat y^i - y^i)^2}{\\sum_{i=1}^m(\\bar y^i - y^i)^2} \n",
    "\\end{equation}\n",
    "\n",
    "其实$R^2$也可以进一步写为：\n",
    "\n",
    "\\begin{equation}\n",
    "R^2 = 1 - \\frac{MSE(\\hat y, y)}{Var(y)} \n",
    "\\end{equation}"
   ]
  },
  {
   "cell_type": "markdown",
   "metadata": {},
   "source": [
    "分子可以理解为使用这个模型产生的错误，分母可以理解为使用$y = \\bar y$时产生的错误（Baseline Model）。"
   ]
  },
  {
   "cell_type": "markdown",
   "metadata": {},
   "source": [
    "因此我们可以得到以下结论：  \n",
    "1). $R^2$的取值小于等于1；  \n",
    "2). $R^2$越大越好，当模型没有任何错误的时候，其值为1；  \n",
    "3). 当模型为Baseline model时，其值为0；  \n",
    "4). 如果$R^2$<0时，说明这个模型甚至还不如Baseline model，很有可能该数据不存在任何线性关系。"
   ]
  },
  {
   "cell_type": "code",
   "execution_count": 80,
   "metadata": {},
   "outputs": [
    {
     "data": {
      "text/plain": [
       "0.4300935416170455"
      ]
     },
     "execution_count": 80,
     "metadata": {},
     "output_type": "execute_result"
    }
   ],
   "source": [
    "# 计算R^2\n",
    "\n",
    "1 - mean_squared_error(y_pred, y_test) / np.var(y_test)"
   ]
  },
  {
   "cell_type": "code",
   "execution_count": 82,
   "metadata": {},
   "outputs": [
    {
     "data": {
      "text/plain": [
       "0.4300935416170455"
      ]
     },
     "execution_count": 82,
     "metadata": {},
     "output_type": "execute_result"
    }
   ],
   "source": [
    "# sklearn中接口\n",
    "from sklearn.metrics import r2_score\n",
    "r2_score(y_test, y_pred)"
   ]
  },
  {
   "cell_type": "markdown",
   "metadata": {},
   "source": [
    "### 5. 多元线性回归"
   ]
  },
  {
   "cell_type": "markdown",
   "metadata": {},
   "source": [
    "实际上的数据中，更可能是有很多个特征值的，如下图所示。\n",
    "![](http://img.wandouip.com/crawler/article/2019327/2629e1c8ae4d7315c34cfc00051718fb)"
   ]
  },
  {
   "cell_type": "markdown",
   "metadata": {},
   "source": [
    "类似于简单线性回归，多元线性回归的目标是：  \n",
    "找到一系列$\\theta_0, \\theta_1, \\theta_2, \\cdots, \\theta_n$， 使得$\\sum_{i=1}^m(\\hat y^i - y^i)^2$尽可能的小。"
   ]
  },
  {
   "cell_type": "markdown",
   "metadata": {},
   "source": [
    "我们可以使得一个$\\theta$为 (其中$\\theta_0$就是我们要找的截距，而剩下的就是斜率)：\n",
    "\n",
    "\\begin{equation}\n",
    "\\theta = (\\theta_0, \\theta_1, \\cdots, \\theta_n)^T\n",
    "\\end{equation}\n",
    "\n",
    "$\\hat y$也可以写成（为$\\theta_0$增加一位$X_0$，$X_0 \\equiv 1$）：\n",
    "\n",
    "\\begin{equation}\n",
    "\\hat y = \\theta_0X_0^i, \\theta_1X_1^i, \\cdots, \\theta_nX_n^i, X_0 \\equiv 1\n",
    "\\end{equation}\n",
    "\n",
    "$X^i$写为向量形式为：\n",
    "\n",
    "\\begin{equation}\n",
    "X^i = (X_0^i, X_1^i, X_2^i, \\cdots, X_n^i)\n",
    "\\end{equation}\n",
    "\n",
    "这样$\\hat y$就可以简写为: $\\hat y = X^i \\cdot \\theta$"
   ]
  },
  {
   "cell_type": "markdown",
   "metadata": {},
   "source": [
    "我们的目标也可以进一步写为：\n",
    "$(y - X_b \\cdot \\theta)(y - X_b \\cdot \\theta)$\n",
    "\n",
    "$\\theta$的正规方程解为:  \n",
    "$\\theta = (X_b^TX_b)^{-1}X_b^Ty$"
   ]
  },
  {
   "cell_type": "markdown",
   "metadata": {},
   "source": [
    "#### 5.1 多元线性回归的实现"
   ]
  },
  {
   "cell_type": "code",
   "execution_count": 108,
   "metadata": {},
   "outputs": [],
   "source": [
    "class Linear_Regression:\n",
    "    \n",
    "    def __init__(self):\n",
    "        self.coef_ = None\n",
    "        self.interception_ = None\n",
    "        self._theta = None\n",
    "    \n",
    "    def fit_normal(self, X_train, y_train):\n",
    "        assert X_train.shape[0] == y_train.shape[0], \"The size of X_train and y_train must be same!\"\n",
    "        \n",
    "        X_b = np.hstack([np.ones(shape=(len(X_train), 1)), X_train])\n",
    "        self._theta = np.linalg.inv(X_b.T.dot(X_b)).dot(X_b.T).dot(y_train)\n",
    "        self.interception_ = self._theta[0]\n",
    "        self.coef_ = self._theta[1:]\n",
    "        \n",
    "        return self\n",
    "    \n",
    "    def predict(self, X_test):\n",
    "        assert self.interception_ is not None and self.coef_ is not None, \\\n",
    "        \"You must fit before predict!\"\n",
    "        assert len(self.coef_) == X_test.shape[1], \\\n",
    "        \"The feature number of X_predict must be the same with X_train!\"\n",
    "        \n",
    "        X_b = np.hstack([np.ones(shape=(len(X_test), 1)), X_test])\n",
    "        return X_b.dot(self._theta)\n",
    "    \n",
    "    def score(self, X_test, y_test):\n",
    "        y_pred = self.predict(X_test)\n",
    "        return 1 - mean_squared_error(y_pred, y_test) / np.var(y_test)\n",
    "        \n",
    "    def __repr__(self):\n",
    "        return \"LinearRegression()\"\n",
    "    "
   ]
  },
  {
   "cell_type": "code",
   "execution_count": 86,
   "metadata": {},
   "outputs": [],
   "source": [
    "X = boston.data\n",
    "y = boston.target\n",
    "X = X[y<50] # 去掉最上面的离散点\n",
    "y = y[y<50]"
   ]
  },
  {
   "cell_type": "code",
   "execution_count": 87,
   "metadata": {},
   "outputs": [
    {
     "data": {
      "text/plain": [
       "(490, 13)"
      ]
     },
     "execution_count": 87,
     "metadata": {},
     "output_type": "execute_result"
    }
   ],
   "source": [
    "X.shape"
   ]
  },
  {
   "cell_type": "code",
   "execution_count": 109,
   "metadata": {},
   "outputs": [],
   "source": [
    "X_train, X_test, y_train, y_test = train_test_split(X, y, random_state = 666)"
   ]
  },
  {
   "cell_type": "code",
   "execution_count": 110,
   "metadata": {},
   "outputs": [
    {
     "data": {
      "text/plain": [
       "LinearRegression()"
      ]
     },
     "execution_count": 110,
     "metadata": {},
     "output_type": "execute_result"
    }
   ],
   "source": [
    "reg = Linear_Regression()\n",
    "reg.fit_normal(X_train, y_train)"
   ]
  },
  {
   "cell_type": "code",
   "execution_count": 111,
   "metadata": {},
   "outputs": [
    {
     "data": {
      "text/plain": [
       "array([-1.15625837e-01,  3.13179564e-02, -4.35662825e-02, -9.73281610e-02,\n",
       "       -1.09500653e+01,  3.49898935e+00, -1.41780625e-02, -1.06249020e+00,\n",
       "        2.46031503e-01, -1.23291876e-02, -8.79440522e-01,  8.31653623e-03,\n",
       "       -3.98593455e-01])"
      ]
     },
     "execution_count": 111,
     "metadata": {},
     "output_type": "execute_result"
    }
   ],
   "source": [
    "reg.coef_"
   ]
  },
  {
   "cell_type": "code",
   "execution_count": 112,
   "metadata": {},
   "outputs": [
    {
     "data": {
      "text/plain": [
       "32.59756158866956"
      ]
     },
     "execution_count": 112,
     "metadata": {},
     "output_type": "execute_result"
    }
   ],
   "source": [
    "reg.interception_"
   ]
  },
  {
   "cell_type": "code",
   "execution_count": 113,
   "metadata": {},
   "outputs": [
    {
     "data": {
      "text/plain": [
       "0.8009390227581031"
      ]
     },
     "execution_count": 113,
     "metadata": {},
     "output_type": "execute_result"
    }
   ],
   "source": [
    "reg.score(X_test, y_test)"
   ]
  },
  {
   "cell_type": "markdown",
   "metadata": {},
   "source": [
    "#### 5.2 sklearn中的实现"
   ]
  },
  {
   "cell_type": "code",
   "execution_count": 114,
   "metadata": {},
   "outputs": [],
   "source": [
    "from sklearn.linear_model import LinearRegression"
   ]
  },
  {
   "cell_type": "code",
   "execution_count": 117,
   "metadata": {},
   "outputs": [
    {
     "data": {
      "text/plain": [
       "LinearRegression(n_jobs=-1)"
      ]
     },
     "execution_count": 117,
     "metadata": {},
     "output_type": "execute_result"
    }
   ],
   "source": [
    "lin_reg = LinearRegression(n_jobs=-1)\n",
    "lin_reg.fit(X_train, y_train)"
   ]
  },
  {
   "cell_type": "code",
   "execution_count": 118,
   "metadata": {},
   "outputs": [
    {
     "data": {
      "text/plain": [
       "array([-1.15625837e-01,  3.13179564e-02, -4.35662825e-02, -9.73281610e-02,\n",
       "       -1.09500653e+01,  3.49898935e+00, -1.41780625e-02, -1.06249020e+00,\n",
       "        2.46031503e-01, -1.23291876e-02, -8.79440522e-01,  8.31653623e-03,\n",
       "       -3.98593455e-01])"
      ]
     },
     "execution_count": 118,
     "metadata": {},
     "output_type": "execute_result"
    }
   ],
   "source": [
    "lin_reg.coef_"
   ]
  },
  {
   "cell_type": "code",
   "execution_count": 120,
   "metadata": {},
   "outputs": [
    {
     "data": {
      "text/plain": [
       "32.597561588699485"
      ]
     },
     "execution_count": 120,
     "metadata": {},
     "output_type": "execute_result"
    }
   ],
   "source": [
    "# 与上面自己实现的结果是相同的\n",
    "lin_reg.intercept_"
   ]
  },
  {
   "cell_type": "code",
   "execution_count": 121,
   "metadata": {},
   "outputs": [
    {
     "data": {
      "text/plain": [
       "0.8009390227581039"
      ]
     },
     "execution_count": 121,
     "metadata": {},
     "output_type": "execute_result"
    }
   ],
   "source": [
    "lin_reg.score(X_test, y_test)"
   ]
  }
 ],
 "metadata": {
  "kernelspec": {
   "display_name": "Python 3",
   "language": "python",
   "name": "python3"
  },
  "language_info": {
   "codemirror_mode": {
    "name": "ipython",
    "version": 3
   },
   "file_extension": ".py",
   "mimetype": "text/x-python",
   "name": "python",
   "nbconvert_exporter": "python",
   "pygments_lexer": "ipython3",
   "version": "3.6.5"
  },
  "toc": {
   "base_numbering": 1,
   "nav_menu": {},
   "number_sections": true,
   "sideBar": true,
   "skip_h1_title": false,
   "title_cell": "Table of Contents",
   "title_sidebar": "Contents",
   "toc_cell": false,
   "toc_position": {},
   "toc_section_display": true,
   "toc_window_display": true
  },
  "varInspector": {
   "cols": {
    "lenName": 16,
    "lenType": 16,
    "lenVar": 40
   },
   "kernels_config": {
    "python": {
     "delete_cmd_postfix": "",
     "delete_cmd_prefix": "del ",
     "library": "var_list.py",
     "varRefreshCmd": "print(var_dic_list())"
    },
    "r": {
     "delete_cmd_postfix": ") ",
     "delete_cmd_prefix": "rm(",
     "library": "var_list.r",
     "varRefreshCmd": "cat(var_dic_list()) "
    }
   },
   "types_to_exclude": [
    "module",
    "function",
    "builtin_function_or_method",
    "instance",
    "_Feature"
   ],
   "window_display": false
  }
 },
 "nbformat": 4,
 "nbformat_minor": 2
}
