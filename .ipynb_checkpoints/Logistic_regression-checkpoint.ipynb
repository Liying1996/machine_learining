{
 "cells": [
  {
   "cell_type": "markdown",
   "metadata": {},
   "source": [
    "### 1. 逻辑回归概述及函数\n",
    "\n",
    "#### 1.1 概述\n",
    "\n",
    "逻辑斯蒂回归（logistic regression）是在数据科学领域最常用到的方法之一，虽然名字为”回归“，但是主要是解决分类问题。\n",
    "\n",
    "在逻辑回归中，我们会得到一个事件的概率值，当>=0.5时，事件发生；当<=0.5时，事件不发生。\n",
    "  \n",
    "\\begin{equation}\n",
    "y=\\left\\{\n",
    "             \\begin{array}{lr}\n",
    "             1, & \\hat{p}\\geq0.5\\\\\n",
    "             0, & \\hat{p}\\leq0.5\\\\ \n",
    "             \\end{array}\n",
    "\\right.\n",
    "\\end{equation}\n",
    " \n",
    "#### 1.2 函数表示\n",
    "\n",
    "在线性回归中，估计值y为：\n",
    "  \n",
    "\\begin{equation}\n",
    "\\hat{y}=\\theta^T \\cdot x_b\n",
    "\\end{equation}\n",
    "\n",
    "这样得到的y值值域为[-inf,inf]，而概率的值域为[0,1]。因此我们想引入一个$\\sigma$, 使得函数值的值域在0到1之间，从而更方便的改变概率值。\n",
    "\n",
    "\\begin{equation}\n",
    "\\hat{p}= \\sigma\\left(\\theta^T \\cdot x_b\\right)\n",
    "\\end{equation}\n",
    "\n",
    "而这个$\\sigma$我们一般用**Sigmoid函数**：\n",
    "\\begin{equation}\n",
    "\\sigma\\left(t\\right)=\\frac{1}{1+e^{-t}}\n",
    "\\end{equation}\n"
   ]
  },
  {
   "cell_type": "code",
   "execution_count": 4,
   "metadata": {},
   "outputs": [
    {
     "data": {
      "image/png": "[encoded data removed]",
      "text/plain": [
       "<Figure size 432x288 with 1 Axes>"
      ]
     },
     "metadata": {},
     "output_type": "display_data"
    }
   ],
   "source": [
    "# Sigmoid函数\n",
    "\n",
    "import numpy as np\n",
    "import matplotlib.pyplot as plt\n",
    "\n",
    "def sigmoid(t):\n",
    "    return 1/(1+np.exp(-t))\n",
    "\n",
    "x = np.arange(-10, 10, 0.1)\n",
    "y = sigmoid(x)\n",
    "\n",
    "plt.plot(x, y)\n",
    "plt.show()"
   ]
  },
  {
   "cell_type": "markdown",
   "metadata": {},
   "source": [
    "这个函数的值域在（0,1）之间；当t > 0时，p > 0.5; 当t < 0时，p < 0.5 。\n",
    "\n",
    "当我们把sigmoid函数的t替换为线性函数时：\n",
    "\n",
    "\\begin{equation}\n",
    "\\hat{p}= \\sigma\\left(\\theta^T \\cdot x_b\\right)=\\frac{1}{1+e^{-\\theta^T \\cdot x_b}}\n",
    "\\end{equation}\n"
   ]
  },
  {
   "cell_type": "markdown",
   "metadata": {},
   "source": [
    "#### 1.3 损失函数的推导和求解\n",
    "\n",
    "从上述公式中，我们可以看出对于一组数据X，要想预测出y，那么需要知道$\\theta$的值。当损失函数最小时，对应的$\\theta$也就是我们想找的了。当真实情况（y）为1时，预测的p越小，则cost越大；y是0时，预测的p越大，则cost越大。什么样的函数满足呢？\n",
    "\n",
    "\n",
    "\\begin{equation}\n",
    "cost=\\left\\{\n",
    "             \\begin{array}{lr}\n",
    "             -log\\left(\\hat{p}\\right), & y=1\\\\\n",
    "             -log\\left(1-\\hat{p}\\right), & y=0\\\\ \n",
    "             \\end{array}\n",
    "\\right.\n",
    "\\end{equation}\n",
    "\n",
    "这个cost函数的图像为（p只能在0-1之间取值）："
   ]
  },
  {
   "cell_type": "code",
   "execution_count": 14,
   "metadata": {},
   "outputs": [
    {
     "data": {
      "image/png": "[encoded data removed]",
      "text/plain": [
       "<Figure size 432x288 with 1 Axes>"
      ]
     },
     "metadata": {},
     "output_type": "display_data"
    }
   ],
   "source": [
    "import math\n",
    "x = np.arange(0.0001, 1, 0.0001)\n",
    "y1 = [-(math.log10(i)) for i in x]\n",
    "y2 = [-(math.log10(1-i)) for i in x]\n",
    "\n",
    "\n",
    "fig,ax = plt.subplots()\n",
    "\n",
    "plt.plot(x , y1)\n",
    "plt.plot(x , y2)\n",
    "plt.show()"
   ]
  },
  {
   "cell_type": "markdown",
   "metadata": {},
   "source": [
    "由于这样分类讨论并不方便，因此可以将这两部分合为一个函数：\n",
    "\n",
    "\\begin{equation}\n",
    "cost=-ylog\\left(\\hat{p}\\right)-\\left(1-y\\right)(\\left(1-\\hat{p}\\right)\n",
    "\\end{equation}\n",
    "\n",
    "对于多个样本而言，损失函数为：\n",
    "\\begin{equation}\n",
    "J\\left(\\theta\\right)=-\\frac{1}{m}\\sum_{i=1}^{m} y^{\\left(i\\right)}log\\left(\\hat{p}^{\\left(i\\right)}\\right)+\\left(1-y^{\\left(i\\right)}\\right)(\\left(1-\\hat{p}^{\\left(i\\right)}\\right)\n",
    "\\end{equation}\n",
    "\n",
    "即：\n",
    "\n",
    "\\begin{equation}\n",
    "J\\left(\\theta\\right)=-\\frac{1}{m}\\sum_{i=1}^{n} y^{\\left(i\\right)}log\\left(\\sigma\\left(X_b^{\\left(i\\right)}\\theta\\right)\\right)+\\left(1-y^{\\left(i\\right)}\\right)(\\left(1-\\sigma\\left(X_b^{\\left(i\\right)}\\theta\\right)\\right)\n",
    "\\end{equation}\n",
    "\n",
    "这个损失函数没有公式解$\\theta$使得$J\\left(\\theta\\right)$最小，但是可以通过梯度下降法求解。由于这是一个凸函数，所以不用考虑局部最优解，只有一个全局最优解。\n",
    "\n",
    "由于函数比较复杂，先对sigmoid函数进行求导得到：\n",
    "\\begin{equation}\n",
    "\\sigma\\left(t\\right)=\\left(1+e^{-t}\\right)^{-1}\n",
    "\\end{equation}\n",
    "\n",
    "\\begin{equation}\n",
    "\\sigma^{'}\\left(t\\right)=\\left(1+e^{-t}\\right)^{-2} \\cdot e^{-t}\n",
    "\\end{equation}\n",
    "\n",
    "下面进一步对$log \\sigma\\left(t\\right)$求导：\n",
    "\\begin{equation}\n",
    "\\begin{aligned}\n",
    "\\left(log \\sigma\\left(t\\right)\\right)^{'} &= \\frac{1}{\\sigma\\left(t\\right)} \\cdot \\sigma\\left(t\\right)^{'}\\\\\n",
    "&=\\frac{1}{\\left(1+e^{-t}\\right)^{-1}} \\cdot \\left(1+e^{-t}\\right)^{-2} \\cdot e^{-t}\\\\\n",
    "&=\\frac{e^{-t}}{1+e^{-t}}\\\\\n",
    "&=1-\\frac{1}{1+e^{-t}}\\\\\n",
    "&=1-\\sigma\\left(t\\right)\n",
    "\\end{aligned}\n",
    "\\end{equation}\n",
    "\n",
    "同理可以计算得到：\n",
    "\\begin{equation}\n",
    "\\begin{aligned}\n",
    "\\left(log\\left(1-\\sigma\\left(t\\right)\\right)\\right)^{'} &= -\\frac{1}{1-\\sigma\\left(t\\right)} \\cdot \\sigma\\left(t\\right)^{'}\\\\\n",
    "&=-\\left(1+e^{-t}\\right)^{-1} \\\\\n",
    "&=-\\sigma\\left(t\\right)\n",
    "\\end{aligned}\n",
    "\\end{equation}\n",
    "\n",
    "最后对$J\\left(\\theta\\right)$的两部分求导：\n",
    "\\begin{equation}\n",
    "\\frac{\\mathrm{d} \\left(y^{\\left(i\\right)}log\\left(\\sigma\\left(X_b^{\\left(i\\right)}\\theta\\right)\\right)\\right) }{\\mathrm{d} \\theta_j}=y^{\\left(i\\right)}\\left(1-\\sigma\\left(X_b^{\\left(i\\right)}\\theta\\right)\\right) \\cdot X_j^{\\left(i\\right)}\\\\\n",
    "\\frac{\\mathrm{d} \\left(\\left(1-y^{\\left(i\\right)}\\right)log\\left(1-\\sigma\\left(X_b^{\\left(i\\right)}\\theta\\right)\\right)\\right) }{\\mathrm{d} \\theta_j}=\\left(1-y^{\\left(i\\right)}\\right)\\left(-\\sigma\\left(X_b^{\\left(i\\right)}\\theta\\right)\\right) \\cdot X_j^{\\left(i\\right)}\n",
    "\\end{equation}\n",
    "\n",
    "两者相加，整理可得：\n",
    "\\begin{equation}\n",
    "\\left(y^{\\left(i\\right)} - \\sigma\\left(X_b^{\\left(i\\right)}\\theta\\right)\\right) \\cdot X_j^{\\left(i\\right)}\n",
    "\\end{equation}\n",
    "\n",
    "所以$J\\left(\\theta\\right)$的导数为：\n",
    "\n",
    "\\begin{equation}\n",
    "\\begin{aligned}\n",
    "\\frac{J\\left(\\theta\\right)}{\\theta_j}&=\\frac{1}{m}\\sum_{i=1}^{m}\\left(\\sigma\\left(X_b^{\\left(i\\right)}\\theta\\right)-y^{\\left(i\\right)}\\right)X_j^{\\left(i\\right)}\\\\\n",
    "&=\\frac{1}{m}\\sum_{i=1}^{m}\\left(\\hat{y}^{\\left(i\\right)} - y^{\\left(i\\right)}\\right)X_j^{\\left(i\\right)}\n",
    "\\end{aligned}\n",
    "\\end{equation}\n",
    "\n",
    "可以看到与线性回归很像，只是$\\hat{y}$在线性回归的基础上套了sigmoid函数。\n",
    "\\begin{equation}\n",
    "\\nabla J\\left(\\theta\\right)=\\frac{1}{m} \\cdot X_b^T \\cdot \\left(\\sigma\\left(X_b\\theta\\right)-y\\right)\n",
    "\\end{equation}\n",
    "\n",
    "\n",
    "---"
   ]
  },
  {
   "cell_type": "markdown",
   "metadata": {},
   "source": [
    "### 2. 逻辑回归的python实现\n",
    "\n",
    "下面是对应的code及调用："
   ]
  },
  {
   "cell_type": "code",
   "execution_count": 84,
   "metadata": {},
   "outputs": [],
   "source": [
    "import warnings\n",
    "warnings.filterwarnings('ignore')\n",
    "\n",
    "import numpy as np\n",
    "from sklearn.metrics import accuracy_score\n",
    "\n",
    "class LogisticRegression:\n",
    "    \n",
    "    def __init__(self):\n",
    "        self.coef = None\n",
    "        self.intercept = None\n",
    "        self.theta = None\n",
    "        \n",
    "    # 定义sigmoid函数\n",
    "    def sigmoid(self, t):\n",
    "        return 1/(1 + np.exp(-t))\n",
    "    \n",
    "    # 梯度下降法\n",
    "    def fit_gd(self, X_train, Y_train, eta = 0.01, n_iters = 1e4):   \n",
    "        \n",
    "        X_b = np.hstack([np.ones((len(X_train), 1)), X_train]) # 初始向量X_b比X_train是多一列1\n",
    "        initial_theta = np.zeros(X_b.shape[1]) # 初始theta\n",
    "        \n",
    "        def J(theta, X_b, y):\n",
    "            y_hat = self.sigmoid(X_b.dot(theta))\n",
    "            return -np.sum(y * np.log(y_hat) + (1-y) * np.log(1-y_hat))/len(X_b)\n",
    "        \n",
    "        # 求导\n",
    "        def dJ(theta, X_b, y):\n",
    "            return X_b.T.dot(self.sigmoid(X_b.dot(theta)) - y)/len(X_b)\n",
    "        \n",
    "        # 梯度下降\n",
    "        def gradent_descent(X_b, y, initial_theta, eta, n_iters=1e4, epsilon=1e-8):\n",
    "            theta = initial_theta\n",
    "            cur_iter = 0\n",
    "            \n",
    "            while cur_iter < n_iters:\n",
    "                gradient = dJ(theta, X_b, y)\n",
    "                last_theta = theta\n",
    "                theta = theta - eta * gradient\n",
    "                \n",
    "                if abs(J(theta, X_b, y) - J(last_theta, X_b, y)) < epsilon:\n",
    "                    break\n",
    "                    \n",
    "                cur_iter += 1\n",
    "                \n",
    "            return theta\n",
    "         \n",
    "        self.theta = gradent_descent(X_b, y_train, initial_theta, eta, n_iters)\n",
    "        self.intercept = self.theta[0]\n",
    "        self.coef = self.theta[1:]\n",
    "        \n",
    "        return self       \n",
    "        \n",
    "    # 预测概率\n",
    "    def predict_prob(self, X_predict):\n",
    "        X_b = np.hstack([np.ones((len(X_predict), 1)), X_predict])\n",
    "        return self.sigmoid(X_b.dot(self.theta))\n",
    "\n",
    "    # 返回预测值\n",
    "    def predict(self, X_predict):\n",
    "        prob = self.predict_prob(X_predict)\n",
    "        return np.array(prob >= 0.5, dtype='int') # True -> 1 ; False -> 0\n",
    "\n",
    "    # 得到accuracy score\n",
    "    def score(self, X_test, y_test):\n",
    "        y_predict = self.predict(X_test)\n",
    "        return accuracy_score(y_test, y_predict)\n",
    "    "
   ]
  },
  {
   "cell_type": "code",
   "execution_count": 107,
   "metadata": {},
   "outputs": [
    {
     "name": "stdout",
     "output_type": "stream",
     "text": [
      "[-0.61116193 -1.93556691  3.06218221  1.31799435]\n",
      "[-0.39809706 -0.61116193 -1.93556691  3.06218221  1.31799435]\n",
      "-0.3980970557296508\n",
      "[0.00480829 0.00930389 0.00331134 0.99809855 0.002465   0.9074089\n",
      " 0.98584206 0.01072035 0.00560786 0.00320813 0.99308437 0.00930389\n",
      " 0.99933247 0.99795825 0.998496   0.95776843 0.99929169 0.00409555\n",
      " 0.99127486 0.00355526 0.01270683 0.98732336 0.99978288 0.9711812\n",
      " 0.99533837]\n",
      "[0 0 0 1 0 1 1 0 0 0 1 0 1 1 1 1 1 0 1 0 0 1 1 1 1]\n"
     ]
    },
    {
     "data": {
      "text/plain": [
       "1.0"
      ]
     },
     "execution_count": 107,
     "metadata": {},
     "output_type": "execute_result"
    }
   ],
   "source": [
    "# 使用iris数据测试\n",
    "from sklearn.model_selection import train_test_split\n",
    "from sklearn import datasets\n",
    "iris = datasets.load_iris()\n",
    "\n",
    "# 由于LR适用于二分类问题，而iris有三组预测值，所以先去掉一组\n",
    "X = iris.data\n",
    "y = iris.target\n",
    "\n",
    "X = X[y<2]\n",
    "y = y[y<2]\n",
    "\n",
    "# 使用上面写的逻辑回归预测\n",
    "X_train, X_test, y_train, y_test = train_test_split(X, y)\n",
    "LR = LogisticRegression()\n",
    "\n",
    "# 训练\n",
    "LR.fit_gd(X_train, y_train)\n",
    "\n",
    "# 参数\n",
    "# print(LR.coef)\n",
    "# print(LR.theta)\n",
    "# print(LR.intercept)\n",
    "\n",
    "# 概率\n",
    "print(LR.predict_prob(X_test))\n",
    "\n",
    "# 预测结果\n",
    "print(LR.predict(X_test))\n",
    "\n",
    "# 分数\n",
    "LR.score(X_test, y_test)\n",
    "\n"
   ]
  },
  {
   "cell_type": "markdown",
   "metadata": {},
   "source": [
    "---"
   ]
  },
  {
   "cell_type": "markdown",
   "metadata": {},
   "source": [
    "### 3. sklearn实现二分类逻辑回归"
   ]
  },
  {
   "cell_type": "code",
   "execution_count": 118,
   "metadata": {},
   "outputs": [
    {
     "data": {
      "image/png": "[encoded data removed]",
      "text/plain": [
       "<Figure size 432x288 with 2 Axes>"
      ]
     },
     "metadata": {},
     "output_type": "display_data"
    }
   ],
   "source": [
    "from sklearn.model_selection import train_test_split\n",
    "from sklearn.linear_model import LogisticRegression\n",
    "from sklearn.metrics import accuracy_score, confusion_matrix\n",
    "import seaborn as sns\n",
    "from sklearn import datasets\n",
    "iris = datasets.load_iris()\n",
    "\n",
    "X = iris.data\n",
    "y = iris.target\n",
    "\n",
    "X = X[y<2]\n",
    "y = y[y<2]\n",
    "\n",
    "X_train, X_test, y_train, y_test = train_test_split(X, y)\n",
    "\n",
    "# 训练\n",
    "clf = LogisticRegression()\n",
    "clf.fit(X_train, y_train)\n",
    "\n",
    "test_predict = clf.predict(X_test)\n",
    "\n",
    "# 预测的accuracy达到了1\n",
    "accuracy_score(y_test, test_predict)\n",
    "\n",
    "confusion_matrix_result = confusion_matrix(test_predict,y_test)\n",
    "sns.heatmap(confusion_matrix_result, annot=True, cmap='Blues')\n",
    "plt.xlabel('Predicted labels')\n",
    "plt.ylabel('True labels')\n",
    "plt.show()"
   ]
  }
 ],
 "metadata": {
  "kernelspec": {
   "display_name": "Python 3",
   "language": "python",
   "name": "python3"
  },
  "language_info": {
   "codemirror_mode": {
    "name": "ipython",
    "version": 3
   },
   "file_extension": ".py",
   "mimetype": "text/x-python",
   "name": "python",
   "nbconvert_exporter": "python",
   "pygments_lexer": "ipython3",
   "version": "3.6.5"
  }
 },
 "nbformat": 4,
 "nbformat_minor": 2
}
